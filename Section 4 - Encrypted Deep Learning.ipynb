{
 "cells": [
  {
   "cell_type": "markdown",
   "metadata": {},
   "source": [
    "# Section: Encrypted Deep Learning\n",
    "\n",
    "- Lesson: Reviewing Additive Secret Sharing\n",
    "- Lesson: Encrypted Subtraction and Public/Scalar Multiplication\n",
    "- Lesson: Encrypted Computation in PySyft\n",
    "- Project: Build an Encrypted Database\n",
    "- Lesson: Encrypted Deep Learning in PyTorch\n",
    "- Lesson: Encrypted Deep Learning in Keras\n",
    "- Final Project"
   ]
  },
  {
   "cell_type": "markdown",
   "metadata": {},
   "source": [
    "# Lesson: Reviewing Additive Secret Sharing\n",
    "\n",
    "_For more great information about SMPC protocols like this one, visit https://mortendahl.github.io. With permission, Morten's work directly inspired this first teaching segment._"
   ]
  },
  {
   "cell_type": "code",
   "execution_count": 1,
   "metadata": {},
   "outputs": [],
   "source": [
    "import random\n",
    "import numpy as np\n",
    "\n",
    "BASE = 10\n",
    "\n",
    "PRECISION_INTEGRAL = 8\n",
    "PRECISION_FRACTIONAL = 8\n",
    "Q = 293973345475167247070445277780365744413\n",
    "\n",
    "PRECISION = PRECISION_INTEGRAL + PRECISION_FRACTIONAL\n",
    "\n",
    "assert(Q > BASE**PRECISION)\n",
    "\n",
    "def encode(rational):\n",
    "    upscaled = int(rational * BASE**PRECISION_FRACTIONAL)\n",
    "    field_element = upscaled % Q\n",
    "    return field_element\n",
    "\n",
    "def decode(field_element):\n",
    "    upscaled = field_element if field_element <= Q/2 else field_element - Q\n",
    "    rational = upscaled / BASE**PRECISION_FRACTIONAL\n",
    "    return rational\n",
    "\n",
    "def encrypt(secret):\n",
    "    first  = random.randrange(Q)\n",
    "    second = random.randrange(Q)\n",
    "    third  = (secret - first - second) % Q\n",
    "    return [first, second, third]\n",
    "\n",
    "def decrypt(sharing):\n",
    "    return sum(sharing) % Q\n",
    "\n",
    "def add(a, b):\n",
    "    c = list()\n",
    "    for i in range(len(a)):\n",
    "        c.append((a[i] + b[i]) % Q)\n",
    "    return tuple(c)"
   ]
  },
  {
   "cell_type": "code",
   "execution_count": 2,
   "metadata": {},
   "outputs": [
    {
     "data": {
      "text/plain": [
       "[227951540472101030196593323099003814538,\n",
       " 137459729600966612100515437319065559111,\n",
       " 222535420877266851843781795143212115177]"
      ]
     },
     "execution_count": 2,
     "metadata": {},
     "output_type": "execute_result"
    }
   ],
   "source": [
    "x = encrypt(encode(5.5))\n",
    "x"
   ]
  },
  {
   "cell_type": "code",
   "execution_count": 3,
   "metadata": {},
   "outputs": [
    {
     "data": {
      "text/plain": [
       "[259175548233445913706009170911175565657,\n",
       " 251822187148560870235802124376717075036,\n",
       " 76948955568327710199079260273068848132]"
      ]
     },
     "execution_count": 3,
     "metadata": {},
     "output_type": "execute_result"
    }
   ],
   "source": [
    "y = encrypt(encode(2.3))\n",
    "y"
   ]
  },
  {
   "cell_type": "code",
   "execution_count": 4,
   "metadata": {},
   "outputs": [
    {
     "data": {
      "text/plain": [
       "(193153743230379696832157216229813635782,\n",
       " 95308571274360235265872283915416889734,\n",
       " 5511030970427314972415777635915218896)"
      ]
     },
     "execution_count": 4,
     "metadata": {},
     "output_type": "execute_result"
    }
   ],
   "source": [
    "z = add(x,y)\n",
    "z"
   ]
  },
  {
   "cell_type": "code",
   "execution_count": 5,
   "metadata": {},
   "outputs": [
    {
     "data": {
      "text/plain": [
       "7.79999999"
      ]
     },
     "execution_count": 5,
     "metadata": {},
     "output_type": "execute_result"
    }
   ],
   "source": [
    "decode(decrypt(z))"
   ]
  },
  {
   "cell_type": "markdown",
   "metadata": {},
   "source": [
    "# Lesson: Encrypted Subtraction and Public/Scalar Multiplication"
   ]
  },
  {
   "cell_type": "code",
   "execution_count": null,
   "metadata": {},
   "outputs": [],
   "source": []
  },
  {
   "cell_type": "code",
   "execution_count": 6,
   "metadata": {},
   "outputs": [],
   "source": [
    "field = 23740629843760239486723"
   ]
  },
  {
   "cell_type": "code",
   "execution_count": 7,
   "metadata": {},
   "outputs": [],
   "source": [
    "x = 5\n",
    "\n",
    "bob_x_share = 2372385723 # random number\n",
    "alices_x_share = field - bob_x_share + x"
   ]
  },
  {
   "cell_type": "code",
   "execution_count": 8,
   "metadata": {},
   "outputs": [
    {
     "data": {
      "text/plain": [
       "5"
      ]
     },
     "execution_count": 8,
     "metadata": {},
     "output_type": "execute_result"
    }
   ],
   "source": [
    "(bob_x_share + alices_x_share) % field"
   ]
  },
  {
   "cell_type": "code",
   "execution_count": 9,
   "metadata": {},
   "outputs": [],
   "source": [
    "field = 10\n",
    "\n",
    "x = 5\n",
    "\n",
    "bob_x_share = 8\n",
    "alice_x_share = field - bob_x_share + x\n",
    "\n",
    "y = 1\n",
    "\n",
    "bob_y_share = 9\n",
    "alice_y_share = field - bob_y_share + y"
   ]
  },
  {
   "cell_type": "code",
   "execution_count": 10,
   "metadata": {},
   "outputs": [
    {
     "data": {
      "text/plain": [
       "4"
      ]
     },
     "execution_count": 10,
     "metadata": {},
     "output_type": "execute_result"
    }
   ],
   "source": [
    "((bob_x_share + alice_x_share) - (bob_y_share + alice_y_share)) % field"
   ]
  },
  {
   "cell_type": "code",
   "execution_count": 11,
   "metadata": {},
   "outputs": [
    {
     "data": {
      "text/plain": [
       "4"
      ]
     },
     "execution_count": 11,
     "metadata": {},
     "output_type": "execute_result"
    }
   ],
   "source": [
    "((bob_x_share - bob_y_share) + (alice_x_share - alice_y_share)) % field"
   ]
  },
  {
   "cell_type": "code",
   "execution_count": 12,
   "metadata": {},
   "outputs": [
    {
     "data": {
      "text/plain": [
       "26"
      ]
     },
     "execution_count": 12,
     "metadata": {},
     "output_type": "execute_result"
    }
   ],
   "source": [
    "bob_x_share + alice_x_share + bob_y_share + alice_y_share"
   ]
  },
  {
   "cell_type": "code",
   "execution_count": 13,
   "metadata": {},
   "outputs": [],
   "source": [
    "bob_z_share = (bob_x_share - bob_y_share)\n",
    "alice_z_share = (alice_x_share - alice_y_share)"
   ]
  },
  {
   "cell_type": "code",
   "execution_count": 14,
   "metadata": {},
   "outputs": [
    {
     "data": {
      "text/plain": [
       "4"
      ]
     },
     "execution_count": 14,
     "metadata": {},
     "output_type": "execute_result"
    }
   ],
   "source": [
    "(bob_z_share + alice_z_share) % field"
   ]
  },
  {
   "cell_type": "code",
   "execution_count": 15,
   "metadata": {},
   "outputs": [],
   "source": [
    "def sub(a, b):\n",
    "    c = list()\n",
    "    for i in range(len(a)):\n",
    "        c.append((a[i] - b[i]) % Q)\n",
    "    return tuple(c)"
   ]
  },
  {
   "cell_type": "code",
   "execution_count": 16,
   "metadata": {},
   "outputs": [],
   "source": [
    "field = 10\n",
    "\n",
    "x = 5\n",
    "\n",
    "bob_x_share = 8\n",
    "alice_x_share = field - bob_x_share + x\n",
    "\n",
    "y = 1\n",
    "\n",
    "bob_y_share = 9\n",
    "alice_y_share = field - bob_y_share + y"
   ]
  },
  {
   "cell_type": "code",
   "execution_count": 17,
   "metadata": {},
   "outputs": [
    {
     "data": {
      "text/plain": [
       "15"
      ]
     },
     "execution_count": 17,
     "metadata": {},
     "output_type": "execute_result"
    }
   ],
   "source": [
    "bob_x_share + alice_x_share"
   ]
  },
  {
   "cell_type": "code",
   "execution_count": 18,
   "metadata": {},
   "outputs": [
    {
     "data": {
      "text/plain": [
       "11"
      ]
     },
     "execution_count": 18,
     "metadata": {},
     "output_type": "execute_result"
    }
   ],
   "source": [
    "bob_y_share + alice_y_share"
   ]
  },
  {
   "cell_type": "code",
   "execution_count": 19,
   "metadata": {},
   "outputs": [
    {
     "data": {
      "text/plain": [
       "3"
      ]
     },
     "execution_count": 19,
     "metadata": {},
     "output_type": "execute_result"
    }
   ],
   "source": [
    "((bob_y_share * 3) + (alice_y_share * 3)) % field"
   ]
  },
  {
   "cell_type": "code",
   "execution_count": 20,
   "metadata": {},
   "outputs": [],
   "source": [
    "def imul(a, scalar):\n",
    "    \n",
    "    # logic here which can multiply by a public scalar\n",
    "    \n",
    "    c = list()\n",
    "    \n",
    "    for i in range(len(a)):\n",
    "        c.append((a[i] * scalar) % Q)\n",
    "        \n",
    "    return tuple(c)"
   ]
  },
  {
   "cell_type": "code",
   "execution_count": 21,
   "metadata": {},
   "outputs": [
    {
     "data": {
      "text/plain": [
       "[139819650784460007444058419111303540045,\n",
       " 99994852872661022962689968447994589891,\n",
       " 54158841818046216663696890221617614477]"
      ]
     },
     "execution_count": 21,
     "metadata": {},
     "output_type": "execute_result"
    }
   ],
   "source": [
    "x = encrypt(encode(5.5))\n",
    "x"
   ]
  },
  {
   "cell_type": "code",
   "execution_count": 22,
   "metadata": {},
   "outputs": [],
   "source": [
    "z = imul(x, 3)"
   ]
  },
  {
   "cell_type": "code",
   "execution_count": 23,
   "metadata": {},
   "outputs": [
    {
     "data": {
      "text/plain": [
       "16.5"
      ]
     },
     "execution_count": 23,
     "metadata": {},
     "output_type": "execute_result"
    }
   ],
   "source": [
    "decode(decrypt(z))"
   ]
  },
  {
   "cell_type": "markdown",
   "metadata": {},
   "source": [
    "# Lesson: Encrypted Computation in PySyft"
   ]
  },
  {
   "cell_type": "code",
   "execution_count": 24,
   "metadata": {},
   "outputs": [
    {
     "name": "stderr",
     "output_type": "stream",
     "text": [
      "WARNING: Logging before flag parsing goes to stderr.\n",
      "W0711 11:12:44.389207 4650186176 secure_random.py:26] Falling back to insecure randomness since the required custom op could not be found for the installed version of TensorFlow. Fix this by compiling custom ops. Missing file was '/anaconda3/envs/pysyft/lib/python3.6/site-packages/tf_encrypted/operations/secure_random/secure_random_module_tf_1.14.0.so'\n",
      "W0711 11:12:44.405456 4650186176 deprecation_wrapper.py:119] From /anaconda3/envs/pysyft/lib/python3.6/site-packages/tf_encrypted/session.py:26: The name tf.Session is deprecated. Please use tf.compat.v1.Session instead.\n",
      "\n"
     ]
    }
   ],
   "source": [
    "import syft as sy\n",
    "import torch as th\n",
    "hook = sy.TorchHook(th)\n",
    "from torch import nn, optim"
   ]
  },
  {
   "cell_type": "code",
   "execution_count": 25,
   "metadata": {},
   "outputs": [],
   "source": [
    "bob = sy.VirtualWorker(hook, id=\"bob\").add_worker(sy.local_worker)\n",
    "alice = sy.VirtualWorker(hook, id=\"alice\").add_worker(sy.local_worker)\n",
    "secure_worker = sy.VirtualWorker(hook, id=\"secure_worker\").add_worker(sy.local_worker)"
   ]
  },
  {
   "cell_type": "code",
   "execution_count": 26,
   "metadata": {},
   "outputs": [],
   "source": [
    "x = th.tensor([1,2,3,4])\n",
    "y = th.tensor([2,-1,1,0])"
   ]
  },
  {
   "cell_type": "code",
   "execution_count": 27,
   "metadata": {},
   "outputs": [],
   "source": [
    "x = x.share(bob, alice, crypto_provider=secure_worker)"
   ]
  },
  {
   "cell_type": "code",
   "execution_count": 28,
   "metadata": {},
   "outputs": [],
   "source": [
    "y = y.share(bob, alice, crypto_provider=secure_worker)"
   ]
  },
  {
   "cell_type": "code",
   "execution_count": 29,
   "metadata": {},
   "outputs": [
    {
     "data": {
      "text/plain": [
       "tensor([3, 1, 4, 4])"
      ]
     },
     "execution_count": 29,
     "metadata": {},
     "output_type": "execute_result"
    }
   ],
   "source": [
    "z = x + y\n",
    "z.get()"
   ]
  },
  {
   "cell_type": "code",
   "execution_count": 30,
   "metadata": {},
   "outputs": [
    {
     "data": {
      "text/plain": [
       "tensor([-1,  3,  2,  4])"
      ]
     },
     "execution_count": 30,
     "metadata": {},
     "output_type": "execute_result"
    }
   ],
   "source": [
    "z = x - y\n",
    "z.get()"
   ]
  },
  {
   "cell_type": "code",
   "execution_count": 31,
   "metadata": {},
   "outputs": [
    {
     "data": {
      "text/plain": [
       "tensor([ 2, -2,  3,  0])"
      ]
     },
     "execution_count": 31,
     "metadata": {},
     "output_type": "execute_result"
    }
   ],
   "source": [
    "z = x * y\n",
    "z.get()"
   ]
  },
  {
   "cell_type": "code",
   "execution_count": 32,
   "metadata": {},
   "outputs": [
    {
     "data": {
      "text/plain": [
       "tensor([0, 1, 1, 1])"
      ]
     },
     "execution_count": 32,
     "metadata": {},
     "output_type": "execute_result"
    }
   ],
   "source": [
    "z = x > y\n",
    "z.get()"
   ]
  },
  {
   "cell_type": "code",
   "execution_count": 33,
   "metadata": {},
   "outputs": [
    {
     "data": {
      "text/plain": [
       "tensor([1, 0, 0, 0])"
      ]
     },
     "execution_count": 33,
     "metadata": {},
     "output_type": "execute_result"
    }
   ],
   "source": [
    "z = x < y\n",
    "z.get()"
   ]
  },
  {
   "cell_type": "code",
   "execution_count": 34,
   "metadata": {},
   "outputs": [
    {
     "data": {
      "text/plain": [
       "tensor([0, 0, 0, 0])"
      ]
     },
     "execution_count": 34,
     "metadata": {},
     "output_type": "execute_result"
    }
   ],
   "source": [
    "z = x == y\n",
    "z.get()"
   ]
  },
  {
   "cell_type": "code",
   "execution_count": null,
   "metadata": {},
   "outputs": [],
   "source": []
  },
  {
   "cell_type": "code",
   "execution_count": null,
   "metadata": {},
   "outputs": [],
   "source": [
    "x = th.tensor([1,2,3,4])\n",
    "y = th.tensor([2,-1,1,0])\n",
    "\n",
    "x = x.fix_precision().share(bob, alice, crypto_provider=secure_worker)\n",
    "y = y.fix_precision().share(bob, alice, crypto_provider=secure_worker)"
   ]
  },
  {
   "cell_type": "code",
   "execution_count": null,
   "metadata": {},
   "outputs": [],
   "source": [
    "z = x + y\n",
    "z.get().float_precision()"
   ]
  },
  {
   "cell_type": "code",
   "execution_count": 37,
   "metadata": {},
   "outputs": [
    {
     "data": {
      "text/plain": [
       "tensor([-1.,  3.,  2.,  4.])"
      ]
     },
     "execution_count": 37,
     "metadata": {},
     "output_type": "execute_result"
    }
   ],
   "source": [
    "z = x - y\n",
    "z.get().float_precision()"
   ]
  },
  {
   "cell_type": "code",
   "execution_count": 38,
   "metadata": {},
   "outputs": [
    {
     "data": {
      "text/plain": [
       "tensor([ 2., -2.,  3.,  0.])"
      ]
     },
     "execution_count": 38,
     "metadata": {},
     "output_type": "execute_result"
    }
   ],
   "source": [
    "z = x * y\n",
    "z.get().float_precision()"
   ]
  },
  {
   "cell_type": "code",
   "execution_count": 39,
   "metadata": {},
   "outputs": [
    {
     "data": {
      "text/plain": [
       "tensor([0., 1., 1., 1.])"
      ]
     },
     "execution_count": 39,
     "metadata": {},
     "output_type": "execute_result"
    }
   ],
   "source": [
    "z = x > y\n",
    "z.get().float_precision()"
   ]
  },
  {
   "cell_type": "code",
   "execution_count": 40,
   "metadata": {},
   "outputs": [
    {
     "data": {
      "text/plain": [
       "tensor([1., 0., 0., 0.])"
      ]
     },
     "execution_count": 40,
     "metadata": {},
     "output_type": "execute_result"
    }
   ],
   "source": [
    "z = x < y\n",
    "z.get().float_precision()"
   ]
  },
  {
   "cell_type": "code",
   "execution_count": 41,
   "metadata": {},
   "outputs": [
    {
     "data": {
      "text/plain": [
       "tensor([0., 0., 0., 0.])"
      ]
     },
     "execution_count": 41,
     "metadata": {},
     "output_type": "execute_result"
    }
   ],
   "source": [
    "z = x == y\n",
    "z.get().float_precision()"
   ]
  },
  {
   "cell_type": "markdown",
   "metadata": {},
   "source": [
    "# Project: Build an Encrypted Database"
   ]
  },
  {
   "cell_type": "code",
   "execution_count": null,
   "metadata": {},
   "outputs": [],
   "source": [
    "# try this project here!"
   ]
  },
  {
   "cell_type": "code",
   "execution_count": 40,
   "metadata": {},
   "outputs": [],
   "source": [
    "import string\n",
    "\n",
    "char2index = {}\n",
    "index2char = {}"
   ]
  },
  {
   "cell_type": "code",
   "execution_count": 41,
   "metadata": {},
   "outputs": [],
   "source": [
    "for i,char in enumerate(' ' + string.ascii_lowercase + '0123456789' + string.punctuation):\n",
    "    char2index[char] = i\n",
    "    index2char[i] = char"
   ]
  },
  {
   "cell_type": "code",
   "execution_count": 42,
   "metadata": {},
   "outputs": [
    {
     "data": {
      "text/plain": [
       "'abcdefghijklmnopqrstuvwxyz'"
      ]
     },
     "execution_count": 42,
     "metadata": {},
     "output_type": "execute_result"
    }
   ],
   "source": [
    "string.ascii_lowercase"
   ]
  },
  {
   "cell_type": "code",
   "execution_count": 43,
   "metadata": {},
   "outputs": [
    {
     "data": {
      "text/plain": [
       "'!\"#$%&\\'()*+,-./:;<=>?@[\\\\]^_`{|}~'"
      ]
     },
     "execution_count": 43,
     "metadata": {},
     "output_type": "execute_result"
    }
   ],
   "source": [
    "string.punctuation"
   ]
  },
  {
   "cell_type": "code",
   "execution_count": 44,
   "metadata": {},
   "outputs": [],
   "source": [
    "str_input = \"Hello\"\n",
    "max_len = 8"
   ]
  },
  {
   "cell_type": "code",
   "execution_count": 45,
   "metadata": {},
   "outputs": [],
   "source": [
    "def string2values(str_input, max_len=8):\n",
    "\n",
    "    str_input = str_input[:max_len].lower()\n",
    "\n",
    "    # pad strings shorter than max len\n",
    "    if(len(str_input) < max_len):\n",
    "        str_input = str_input + \".\" * (max_len - len(str_input))\n",
    "\n",
    "    values = list()\n",
    "    for char in str_input:\n",
    "        values.append(char2index[char])\n",
    "\n",
    "    return th.tensor(values).long()\n",
    "\n",
    "def values2string(input_values):\n",
    "    s = \"\"\n",
    "    for value in input_values:\n",
    "        s += index2char[int(value)]\n",
    "    return s\n",
    "\n",
    "def strings_equal(str_a, str_b):\n",
    "\n",
    "    vect = (str_a * str_b).sum(1)\n",
    "\n",
    "    x = vect[0]\n",
    "\n",
    "    for i in range(vect.shape[0] - 1):\n",
    "        x = x * vect[i + 1]    \n",
    "\n",
    "    return x\n",
    "\n",
    "def one_hot(index, length):\n",
    "    vect = th.zeros(length).long()\n",
    "    vect[index] = 1\n",
    "    return vect\n",
    "\n",
    "def string2one_hot_matrix(str_input, max_len=8):\n",
    "\n",
    "    str_input = str_input[:max_len].lower()\n",
    "\n",
    "    # pad strings shorter than max len\n",
    "    if(len(str_input) < max_len):\n",
    "        str_input = str_input + \".\" * (max_len - len(str_input))\n",
    "\n",
    "    char_vectors = list()\n",
    "    for char in str_input:\n",
    "        char_v = one_hot(char2index[char], len(char2index)).unsqueeze(0)\n",
    "        char_vectors.append(char_v)\n",
    "        \n",
    "    return th.cat(char_vectors, dim=0)"
   ]
  },
  {
   "cell_type": "code",
   "execution_count": 46,
   "metadata": {},
   "outputs": [],
   "source": [
    "class EncryptedDB():\n",
    "    \n",
    "    def __init__(self, *owners, max_key_len=8, max_val_len=8):\n",
    "        self.max_key_len = max_key_len\n",
    "        self.max_val_len = max_val_len\n",
    "        \n",
    "        self.keys = list()\n",
    "        self.values = list()\n",
    "        self.owners = owners\n",
    "        \n",
    "    def add_entry(self, key, value):\n",
    "        key = string2one_hot_matrix(key)\n",
    "        key = key.share(*self.owners)\n",
    "        self.keys.append(key)\n",
    "        \n",
    "        value = string2values(value, max_len=self.max_val_len)\n",
    "        value = value.share(*self.owners)\n",
    "        self.values.append(value)\n",
    "        \n",
    "    def query(self, query_str):\n",
    "        query_matrix = string2one_hot_matrix(query_str)\n",
    "        \n",
    "        query_matrix = query_matrix.share(*self.owners)\n",
    "\n",
    "        key_matches = list()\n",
    "        for key in self.keys:\n",
    "\n",
    "            key_match = strings_equal(key, query_matrix)\n",
    "            key_matches.append(key_match)\n",
    "\n",
    "        result = self.values[0] * key_matches[0]\n",
    "\n",
    "        for i in range(len(self.values) - 1):\n",
    "            result += self.values[i+1] * key_matches[i+1]\n",
    "            \n",
    "        result = result.get()\n",
    "\n",
    "        return values2string(result).replace(\".\",\"\")"
   ]
  },
  {
   "cell_type": "code",
   "execution_count": 47,
   "metadata": {},
   "outputs": [
    {
     "data": {
      "text/plain": [
       "'(123) 456 7890'"
      ]
     },
     "execution_count": 47,
     "metadata": {},
     "output_type": "execute_result"
    }
   ],
   "source": [
    "db = EncryptedDB(bob, alice, secure_worker, max_val_len=256)\n",
    "\n",
    "db.add_entry(\"Bob\",\"(123) 456 7890\")\n",
    "db.add_entry(\"Bill\", \"(234) 567 8901\")\n",
    "db.add_entry(\"Sam\",\"(345) 678 9012\")\n",
    "db.add_entry(\"Key\",\"really big json value\")\n",
    "\n",
    "db.query(\"Bob\")"
   ]
  },
  {
   "cell_type": "code",
   "execution_count": null,
   "metadata": {},
   "outputs": [],
   "source": []
  },
  {
   "cell_type": "markdown",
   "metadata": {},
   "source": [
    "# Lesson: Encrypted Deep Learning in PyTorch"
   ]
  },
  {
   "cell_type": "markdown",
   "metadata": {},
   "source": [
    "### Train a Model"
   ]
  },
  {
   "cell_type": "code",
   "execution_count": 48,
   "metadata": {},
   "outputs": [
    {
     "name": "stdout",
     "output_type": "stream",
     "text": [
      "tensor(1.0815)\n",
      "tensor(0.8536)\n",
      "tensor(0.8135)\n",
      "tensor(0.4720)\n",
      "tensor(0.3765)\n",
      "tensor(0.2195)\n",
      "tensor(0.1851)\n",
      "tensor(0.1319)\n",
      "tensor(0.1201)\n",
      "tensor(0.0888)\n",
      "tensor(0.0835)\n",
      "tensor(0.0706)\n",
      "tensor(0.0680)\n",
      "tensor(0.0563)\n",
      "tensor(0.0551)\n",
      "tensor(0.0464)\n",
      "tensor(0.0454)\n",
      "tensor(0.0385)\n",
      "tensor(0.0375)\n",
      "tensor(0.0316)\n"
     ]
    }
   ],
   "source": [
    "from torch import nn\n",
    "from torch import optim\n",
    "import torch.nn.functional as F\n",
    "\n",
    "# A Toy Dataset\n",
    "data = th.tensor([[0,0],[0,1],[1,0],[1,1.]], requires_grad=True)\n",
    "target = th.tensor([[0],[0],[1],[1.]], requires_grad=True)\n",
    "\n",
    "class Net(nn.Module):\n",
    "    def __init__(self):\n",
    "        super(Net, self).__init__()\n",
    "        self.fc1 = nn.Linear(2, 20)\n",
    "        self.fc2 = nn.Linear(20, 1)\n",
    "\n",
    "    def forward(self, x):\n",
    "        x = self.fc1(x)\n",
    "        x = F.relu(x)\n",
    "        x = self.fc2(x)\n",
    "        return x\n",
    "\n",
    "# A Toy Model\n",
    "model = Net()\n",
    "\n",
    "def train():\n",
    "    # Training Logic\n",
    "    opt = optim.SGD(params=model.parameters(),lr=0.1)\n",
    "    for iter in range(20):\n",
    "\n",
    "        # 1) erase previous gradients (if they exist)\n",
    "        opt.zero_grad()\n",
    "\n",
    "        # 2) make a prediction\n",
    "        pred = model(data)\n",
    "\n",
    "        # 3) calculate how much we missed\n",
    "        loss = ((pred - target)**2).sum()\n",
    "\n",
    "        # 4) figure out which weights caused us to miss\n",
    "        loss.backward()\n",
    "\n",
    "        # 5) change those weights\n",
    "        opt.step()\n",
    "\n",
    "        # 6) print our progress\n",
    "        print(loss.data)\n",
    "        \n",
    "train()"
   ]
  },
  {
   "cell_type": "code",
   "execution_count": 49,
   "metadata": {},
   "outputs": [
    {
     "data": {
      "text/plain": [
       "tensor([[-0.0300],\n",
       "        [-0.0748],\n",
       "        [ 0.8733],\n",
       "        [ 0.9116]], grad_fn=<AddmmBackward>)"
      ]
     },
     "execution_count": 49,
     "metadata": {},
     "output_type": "execute_result"
    }
   ],
   "source": [
    "model(data)"
   ]
  },
  {
   "cell_type": "markdown",
   "metadata": {},
   "source": [
    "## Encrypt the Model and Data"
   ]
  },
  {
   "cell_type": "code",
   "execution_count": 50,
   "metadata": {},
   "outputs": [],
   "source": [
    "encrypted_model = model.fix_precision().share(alice, bob, crypto_provider=secure_worker)"
   ]
  },
  {
   "cell_type": "code",
   "execution_count": 51,
   "metadata": {},
   "outputs": [
    {
     "data": {
      "text/plain": [
       "[Parameter containing:\n",
       " Parameter>FixedPrecisionTensor>(Wrapper)>[AdditiveSharingTensor]\n",
       " \t-> (Wrapper)>[PointerTensor | me:47192080359 -> alice:3436664693]\n",
       " \t-> (Wrapper)>[PointerTensor | me:46181080575 -> bob:17865931144]\n",
       " \t*crypto provider: secure_worker*, Parameter containing:\n",
       " Parameter>FixedPrecisionTensor>(Wrapper)>[AdditiveSharingTensor]\n",
       " \t-> (Wrapper)>[PointerTensor | me:81893745918 -> alice:92809058936]\n",
       " \t-> (Wrapper)>[PointerTensor | me:80637053855 -> bob:4901170429]\n",
       " \t*crypto provider: secure_worker*, Parameter containing:\n",
       " Parameter>FixedPrecisionTensor>(Wrapper)>[AdditiveSharingTensor]\n",
       " \t-> (Wrapper)>[PointerTensor | me:5281808963 -> alice:24433479608]\n",
       " \t-> (Wrapper)>[PointerTensor | me:65036827708 -> bob:86736158375]\n",
       " \t*crypto provider: secure_worker*, Parameter containing:\n",
       " Parameter>FixedPrecisionTensor>(Wrapper)>[AdditiveSharingTensor]\n",
       " \t-> (Wrapper)>[PointerTensor | me:2375876447 -> alice:47422001121]\n",
       " \t-> (Wrapper)>[PointerTensor | me:1369471356 -> bob:37260244584]\n",
       " \t*crypto provider: secure_worker*]"
      ]
     },
     "execution_count": 51,
     "metadata": {},
     "output_type": "execute_result"
    }
   ],
   "source": [
    "list(encrypted_model.parameters())"
   ]
  },
  {
   "cell_type": "code",
   "execution_count": 52,
   "metadata": {},
   "outputs": [],
   "source": [
    "encrypted_data = data.fix_precision().share(alice, bob, crypto_provider=secure_worker)"
   ]
  },
  {
   "cell_type": "code",
   "execution_count": 53,
   "metadata": {},
   "outputs": [
    {
     "data": {
      "text/plain": [
       "(Wrapper)>FixedPrecisionTensor>(Wrapper)>[AdditiveSharingTensor]\n",
       "\t-> (Wrapper)>[PointerTensor | me:28062428054 -> alice:48612097962]\n",
       "\t-> (Wrapper)>[PointerTensor | me:92199913791 -> bob:60749513701]\n",
       "\t*crypto provider: secure_worker*"
      ]
     },
     "execution_count": 53,
     "metadata": {},
     "output_type": "execute_result"
    }
   ],
   "source": [
    "encrypted_data"
   ]
  },
  {
   "cell_type": "code",
   "execution_count": 54,
   "metadata": {},
   "outputs": [],
   "source": [
    "encrypted_prediction = encrypted_model(encrypted_data)"
   ]
  },
  {
   "cell_type": "code",
   "execution_count": 55,
   "metadata": {},
   "outputs": [
    {
     "data": {
      "text/plain": [
       "tensor([[-0.0300],\n",
       "        [-0.0750],\n",
       "        [ 0.8710],\n",
       "        [ 0.9090]])"
      ]
     },
     "execution_count": 55,
     "metadata": {},
     "output_type": "execute_result"
    }
   ],
   "source": [
    "encrypted_prediction.get().float_precision()"
   ]
  },
  {
   "cell_type": "markdown",
   "metadata": {},
   "source": [
    "# Lesson: Encrypted Deep Learning in Keras\n"
   ]
  },
  {
   "cell_type": "markdown",
   "metadata": {},
   "source": [
    "## Step 1: Public Training\n",
    "\n",
    "Welcome to this tutorial! In the following notebooks you will learn how to provide private predictions. By private predictions, we mean that the data is constantly encrypted throughout the entire process. At no point is the user sharing raw data, only encrypted (that is, secret shared) data. In order to provide these private predictions, Syft Keras uses a library called [TF Encrypted](https://github.com/tf-encrypted/tf-encrypted) under the hood. TF Encrypted combines cutting-edge cryptographic and machine learning techniques, but you don't have to worry about this and can focus on your machine learning application.\n",
    "\n",
    "You can start serving private predictions with only three steps:\n",
    "- **Step 1**: train your model with normal Keras.\n",
    "- **Step 2**: secure and serve your machine learning model (server).\n",
    "- **Step 3**: query the secured model to receive private predictions (client). \n",
    "\n",
    "Alright, let's go through these three steps so you can deploy impactful machine learning services without sacrificing user privacy or model security.\n",
    "\n",
    "Huge shoutout to the Dropout Labs ([@dropoutlabs](https://twitter.com/dropoutlabs)) and TF Encrypted ([@tf_encrypted](https://twitter.com/tf_encrypted)) teams for their great work which makes this demo possible, especially: Jason Mancuso ([@jvmancuso](https://twitter.com/jvmancuso)), Yann Dupis ([@YannDupis](https://twitter.com/YannDupis)), and Morten Dahl ([@mortendahlcs](https://github.com/mortendahlcs)). \n",
    "\n",
    "_Demo Ref: https://github.com/OpenMined/PySyft/tree/dev/examples/tutorials_"
   ]
  },
  {
   "cell_type": "markdown",
   "metadata": {},
   "source": [
    "## Train Your Model in Keras\n",
    "\n",
    "To use privacy-preserving machine learning techniques for your projects you should not have to learn a new machine learning framework. If you have basic [Keras](https://keras.io/) knowledge, you can start using these techniques with Syft Keras. If you have never used Keras before, you can learn a bit more about it through the [Keras documentation](https://keras.io). \n",
    "\n",
    "Before serving private predictions, the first step is to train your model with normal Keras. As an example, we will train a model to classify handwritten digits. To train this model we will use the canonical [MNIST dataset](http://yann.lecun.com/exdb/mnist/).\n",
    "\n",
    "We borrow [this example](https://github.com/keras-team/keras/blob/master/examples/mnist_cnn.py) from the reference Keras repository.  To train your classification model, you just run the cell below."
   ]
  },
  {
   "cell_type": "code",
   "execution_count": 60,
   "metadata": {},
   "outputs": [
    {
     "name": "stdout",
     "output_type": "stream",
     "text": [
      "x_train shape: (60000, 28, 28, 1)\n",
      "60000 train samples\n",
      "10000 test samples\n",
      "Train on 60000 samples, validate on 10000 samples\n",
      "Epoch 1/100\n",
      "60000/60000 [==============================] - 19s 320us/sample - loss: 2.3022 - acc: 0.1034 - val_loss: 2.3012 - val_acc: 0.1035\n",
      "Epoch 2/100\n",
      "60000/60000 [==============================] - 15s 242us/sample - loss: 2.3005 - acc: 0.1065 - val_loss: 2.2995 - val_acc: 0.1099\n",
      "Epoch 3/100\n",
      "60000/60000 [==============================] - 16s 260us/sample - loss: 2.2989 - acc: 0.1375 - val_loss: 2.2978 - val_acc: 0.1654\n",
      "Epoch 4/100\n",
      "60000/60000 [==============================] - 21s 356us/sample - loss: 2.2971 - acc: 0.1953 - val_loss: 2.2959 - val_acc: 0.2135\n",
      "Epoch 5/100\n",
      "60000/60000 [==============================] - 20s 326us/sample - loss: 2.2953 - acc: 0.2211 - val_loss: 2.2940 - val_acc: 0.2308\n",
      "Epoch 6/100\n",
      "60000/60000 [==============================] - 16s 267us/sample - loss: 2.2935 - acc: 0.2328 - val_loss: 2.2920 - val_acc: 0.2412\n",
      "Epoch 7/100\n",
      "60000/60000 [==============================] - 18s 304us/sample - loss: 2.2914 - acc: 0.2444 - val_loss: 2.2898 - val_acc: 0.2554\n",
      "Epoch 8/100\n",
      "60000/60000 [==============================] - 17s 276us/sample - loss: 2.2891 - acc: 0.2538 - val_loss: 2.2873 - val_acc: 0.2671\n",
      "Epoch 9/100\n",
      "60000/60000 [==============================] - 19s 315us/sample - loss: 2.2866 - acc: 0.2620 - val_loss: 2.2844 - val_acc: 0.2727\n",
      "Epoch 10/100\n",
      "60000/60000 [==============================] - 19s 318us/sample - loss: 2.2836 - acc: 0.2704 - val_loss: 2.2811 - val_acc: 0.2791\n",
      "Epoch 11/100\n",
      "60000/60000 [==============================] - 18s 307us/sample - loss: 2.2800 - acc: 0.2737 - val_loss: 2.2770 - val_acc: 0.2825\n",
      "Epoch 12/100\n",
      "60000/60000 [==============================] - 18s 303us/sample - loss: 2.2757 - acc: 0.2821 - val_loss: 2.2723 - val_acc: 0.2822\n",
      "Epoch 13/100\n",
      "60000/60000 [==============================] - 18s 307us/sample - loss: 2.2709 - acc: 0.2828 - val_loss: 2.2670 - val_acc: 0.2839\n",
      "Epoch 14/100\n",
      "60000/60000 [==============================] - 18s 302us/sample - loss: 2.2656 - acc: 0.2880 - val_loss: 2.2611 - val_acc: 0.2905\n",
      "Epoch 15/100\n",
      "60000/60000 [==============================] - 18s 307us/sample - loss: 2.2594 - acc: 0.2978 - val_loss: 2.2543 - val_acc: 0.3054\n",
      "Epoch 16/100\n",
      "60000/60000 [==============================] - 19s 310us/sample - loss: 2.2523 - acc: 0.3138 - val_loss: 2.2465 - val_acc: 0.3241\n",
      "Epoch 17/100\n",
      "60000/60000 [==============================] - 18s 301us/sample - loss: 2.2443 - acc: 0.3339 - val_loss: 2.2376 - val_acc: 0.3468\n",
      "Epoch 18/100\n",
      "60000/60000 [==============================] - 18s 308us/sample - loss: 2.2350 - acc: 0.3538 - val_loss: 2.2274 - val_acc: 0.3676\n",
      "Epoch 19/100\n",
      "60000/60000 [==============================] - 18s 307us/sample - loss: 2.2245 - acc: 0.3691 - val_loss: 2.2158 - val_acc: 0.3872\n",
      "Epoch 20/100\n",
      "60000/60000 [==============================] - 18s 306us/sample - loss: 2.2125 - acc: 0.3919 - val_loss: 2.2025 - val_acc: 0.4088\n",
      "Epoch 21/100\n",
      "60000/60000 [==============================] - 19s 310us/sample - loss: 2.1990 - acc: 0.4115 - val_loss: 2.1876 - val_acc: 0.4299\n",
      "Epoch 22/100\n",
      "60000/60000 [==============================] - 20s 332us/sample - loss: 2.1835 - acc: 0.4340 - val_loss: 2.1706 - val_acc: 0.4558\n",
      "Epoch 23/100\n",
      "60000/60000 [==============================] - 19s 314us/sample - loss: 2.1661 - acc: 0.4597 - val_loss: 2.1515 - val_acc: 0.4818\n",
      "Epoch 24/100\n",
      "60000/60000 [==============================] - 20s 327us/sample - loss: 2.1464 - acc: 0.4836 - val_loss: 2.1298 - val_acc: 0.5056\n",
      "Epoch 25/100\n",
      "60000/60000 [==============================] - 19s 309us/sample - loss: 2.1241 - acc: 0.5089 - val_loss: 2.1054 - val_acc: 0.5306\n",
      "Epoch 26/100\n",
      "60000/60000 [==============================] - 18s 300us/sample - loss: 2.0993 - acc: 0.5331 - val_loss: 2.0784 - val_acc: 0.5551\n",
      "Epoch 27/100\n",
      "60000/60000 [==============================] - 18s 298us/sample - loss: 2.0717 - acc: 0.5514 - val_loss: 2.0483 - val_acc: 0.5751\n",
      "Epoch 28/100\n",
      "60000/60000 [==============================] - 18s 299us/sample - loss: 2.0412 - acc: 0.5677 - val_loss: 2.0154 - val_acc: 0.5884\n",
      "Epoch 29/100\n",
      "60000/60000 [==============================] - 19s 310us/sample - loss: 2.0079 - acc: 0.5794 - val_loss: 1.9793 - val_acc: 0.5969\n",
      "Epoch 30/100\n",
      "60000/60000 [==============================] - 19s 311us/sample - loss: 1.9718 - acc: 0.5864 - val_loss: 1.9406 - val_acc: 0.6008\n",
      "Epoch 31/100\n",
      "60000/60000 [==============================] - 18s 308us/sample - loss: 1.9329 - acc: 0.5894 - val_loss: 1.8990 - val_acc: 0.6044\n",
      "Epoch 32/100\n",
      "60000/60000 [==============================] - 18s 295us/sample - loss: 1.8916 - acc: 0.5926 - val_loss: 1.8553 - val_acc: 0.6086\n",
      "Epoch 33/100\n",
      "60000/60000 [==============================] - 18s 295us/sample - loss: 1.8487 - acc: 0.5958 - val_loss: 1.8101 - val_acc: 0.6115\n",
      "Epoch 34/100\n",
      "60000/60000 [==============================] - 18s 295us/sample - loss: 1.8041 - acc: 0.5976 - val_loss: 1.7630 - val_acc: 0.6136\n",
      "Epoch 35/100\n",
      "60000/60000 [==============================] - 18s 296us/sample - loss: 1.7582 - acc: 0.5992 - val_loss: 1.7149 - val_acc: 0.6156\n",
      "Epoch 36/100\n",
      "60000/60000 [==============================] - 18s 298us/sample - loss: 1.7120 - acc: 0.6033 - val_loss: 1.6674 - val_acc: 0.6187\n",
      "Epoch 37/100\n",
      "60000/60000 [==============================] - 18s 302us/sample - loss: 1.6662 - acc: 0.6061 - val_loss: 1.6197 - val_acc: 0.6232\n",
      "Epoch 38/100\n",
      "60000/60000 [==============================] - 18s 293us/sample - loss: 1.6204 - acc: 0.6088 - val_loss: 1.5725 - val_acc: 0.6284\n",
      "Epoch 39/100\n",
      "60000/60000 [==============================] - 18s 297us/sample - loss: 1.5756 - acc: 0.6146 - val_loss: 1.5266 - val_acc: 0.6338\n",
      "Epoch 40/100\n",
      "60000/60000 [==============================] - 18s 299us/sample - loss: 1.5323 - acc: 0.6205 - val_loss: 1.4830 - val_acc: 0.6376\n",
      "Epoch 41/100\n",
      "60000/60000 [==============================] - 18s 301us/sample - loss: 1.4912 - acc: 0.6260 - val_loss: 1.4410 - val_acc: 0.6450\n",
      "Epoch 42/100\n",
      "60000/60000 [==============================] - 18s 296us/sample - loss: 1.4517 - acc: 0.6309 - val_loss: 1.4009 - val_acc: 0.6542\n",
      "Epoch 43/100\n",
      "60000/60000 [==============================] - 18s 306us/sample - loss: 1.4147 - acc: 0.6384 - val_loss: 1.3637 - val_acc: 0.6592\n",
      "Epoch 44/100\n",
      "60000/60000 [==============================] - 18s 303us/sample - loss: 1.3797 - acc: 0.6428 - val_loss: 1.3284 - val_acc: 0.6645\n",
      "Epoch 45/100\n",
      "60000/60000 [==============================] - 17s 289us/sample - loss: 1.3469 - acc: 0.6487 - val_loss: 1.2957 - val_acc: 0.6701\n",
      "Epoch 46/100\n",
      "60000/60000 [==============================] - 18s 292us/sample - loss: 1.3164 - acc: 0.6536 - val_loss: 1.2650 - val_acc: 0.6746\n",
      "Epoch 47/100\n",
      "60000/60000 [==============================] - 18s 292us/sample - loss: 1.2875 - acc: 0.6587 - val_loss: 1.2361 - val_acc: 0.6792\n",
      "Epoch 48/100\n",
      "60000/60000 [==============================] - 18s 295us/sample - loss: 1.2604 - acc: 0.6627 - val_loss: 1.2092 - val_acc: 0.6842\n",
      "Epoch 49/100\n",
      "60000/60000 [==============================] - 18s 294us/sample - loss: 1.2352 - acc: 0.6679 - val_loss: 1.1840 - val_acc: 0.6898\n",
      "Epoch 50/100\n",
      "60000/60000 [==============================] - 17s 291us/sample - loss: 1.2114 - acc: 0.6719 - val_loss: 1.1602 - val_acc: 0.6943\n",
      "Epoch 51/100\n",
      "60000/60000 [==============================] - 18s 297us/sample - loss: 1.1890 - acc: 0.6755 - val_loss: 1.1378 - val_acc: 0.6992\n",
      "Epoch 52/100\n",
      "60000/60000 [==============================] - 18s 292us/sample - loss: 1.1679 - acc: 0.6800 - val_loss: 1.1172 - val_acc: 0.7018\n",
      "Epoch 53/100\n",
      "60000/60000 [==============================] - 17s 291us/sample - loss: 1.1482 - acc: 0.6830 - val_loss: 1.0975 - val_acc: 0.7070\n",
      "Epoch 54/100\n",
      "60000/60000 [==============================] - 17s 290us/sample - loss: 1.1295 - acc: 0.6877 - val_loss: 1.0792 - val_acc: 0.7082\n",
      "Epoch 55/100\n",
      "60000/60000 [==============================] - 18s 295us/sample - loss: 1.1119 - acc: 0.6903 - val_loss: 1.0618 - val_acc: 0.7110\n",
      "Epoch 56/100\n",
      "60000/60000 [==============================] - 18s 294us/sample - loss: 1.0954 - acc: 0.6937 - val_loss: 1.0457 - val_acc: 0.7130\n",
      "Epoch 57/100\n"
     ]
    },
    {
     "name": "stdout",
     "output_type": "stream",
     "text": [
      "60000/60000 [==============================] - 17s 279us/sample - loss: 1.0797 - acc: 0.6963 - val_loss: 1.0301 - val_acc: 0.7167\n",
      "Epoch 58/100\n",
      "60000/60000 [==============================] - 19s 315us/sample - loss: 1.0648 - acc: 0.6995 - val_loss: 1.0156 - val_acc: 0.7200\n",
      "Epoch 59/100\n",
      "60000/60000 [==============================] - 17s 288us/sample - loss: 1.0507 - acc: 0.7018 - val_loss: 1.0016 - val_acc: 0.7239\n",
      "Epoch 60/100\n",
      "60000/60000 [==============================] - 18s 293us/sample - loss: 1.0371 - acc: 0.7047 - val_loss: 0.9883 - val_acc: 0.7258\n",
      "Epoch 61/100\n",
      "60000/60000 [==============================] - 17s 289us/sample - loss: 1.0241 - acc: 0.7081 - val_loss: 0.9757 - val_acc: 0.7273\n",
      "Epoch 62/100\n",
      "60000/60000 [==============================] - 17s 282us/sample - loss: 1.0117 - acc: 0.7107 - val_loss: 0.9634 - val_acc: 0.7295\n",
      "Epoch 63/100\n",
      "60000/60000 [==============================] - 17s 286us/sample - loss: 0.9999 - acc: 0.7134 - val_loss: 0.9520 - val_acc: 0.7324\n",
      "Epoch 64/100\n",
      "60000/60000 [==============================] - 17s 283us/sample - loss: 0.9886 - acc: 0.7165 - val_loss: 0.9411 - val_acc: 0.7351\n",
      "Epoch 65/100\n",
      "60000/60000 [==============================] - 17s 284us/sample - loss: 0.9778 - acc: 0.7194 - val_loss: 0.9303 - val_acc: 0.7386\n",
      "Epoch 66/100\n",
      "60000/60000 [==============================] - 17s 285us/sample - loss: 0.9673 - acc: 0.7224 - val_loss: 0.9202 - val_acc: 0.7408\n",
      "Epoch 67/100\n",
      "60000/60000 [==============================] - 17s 283us/sample - loss: 0.9573 - acc: 0.7245 - val_loss: 0.9106 - val_acc: 0.7419\n",
      "Epoch 68/100\n",
      "60000/60000 [==============================] - 17s 286us/sample - loss: 0.9476 - acc: 0.7271 - val_loss: 0.9010 - val_acc: 0.7451\n",
      "Epoch 69/100\n",
      "60000/60000 [==============================] - 17s 286us/sample - loss: 0.9382 - acc: 0.7305 - val_loss: 0.8919 - val_acc: 0.7467\n",
      "Epoch 70/100\n",
      "60000/60000 [==============================] - 18s 294us/sample - loss: 0.9292 - acc: 0.7325 - val_loss: 0.8831 - val_acc: 0.7479\n",
      "Epoch 71/100\n",
      "60000/60000 [==============================] - 17s 291us/sample - loss: 0.9205 - acc: 0.7348 - val_loss: 0.8747 - val_acc: 0.7506\n",
      "Epoch 72/100\n",
      "60000/60000 [==============================] - 18s 296us/sample - loss: 0.9121 - acc: 0.7369 - val_loss: 0.8667 - val_acc: 0.7527\n",
      "Epoch 73/100\n",
      "60000/60000 [==============================] - 18s 292us/sample - loss: 0.9040 - acc: 0.7394 - val_loss: 0.8588 - val_acc: 0.7550\n",
      "Epoch 74/100\n",
      "60000/60000 [==============================] - 18s 296us/sample - loss: 0.8961 - acc: 0.7413 - val_loss: 0.8513 - val_acc: 0.7560\n",
      "Epoch 75/100\n",
      "60000/60000 [==============================] - 18s 297us/sample - loss: 0.8885 - acc: 0.7436 - val_loss: 0.8439 - val_acc: 0.7594\n",
      "Epoch 76/100\n",
      "60000/60000 [==============================] - 18s 302us/sample - loss: 0.8811 - acc: 0.7456 - val_loss: 0.8366 - val_acc: 0.7608\n",
      "Epoch 77/100\n",
      "60000/60000 [==============================] - 18s 294us/sample - loss: 0.8740 - acc: 0.7475 - val_loss: 0.8297 - val_acc: 0.7627\n",
      "Epoch 78/100\n",
      "60000/60000 [==============================] - 16s 265us/sample - loss: 0.8671 - acc: 0.7498 - val_loss: 0.8230 - val_acc: 0.7644\n",
      "Epoch 79/100\n",
      "60000/60000 [==============================] - 18s 302us/sample - loss: 0.8603 - acc: 0.7517 - val_loss: 0.8164 - val_acc: 0.7667\n",
      "Epoch 80/100\n",
      "60000/60000 [==============================] - 288s 5ms/sample - loss: 0.8538 - acc: 0.7541 - val_loss: 0.8101 - val_acc: 0.7679\n",
      "Epoch 81/100\n",
      "60000/60000 [==============================] - 23s 383us/sample - loss: 0.8474 - acc: 0.7564 - val_loss: 0.8040 - val_acc: 0.7694\n",
      "Epoch 82/100\n",
      "60000/60000 [==============================] - 15s 247us/sample - loss: 0.8412 - acc: 0.7576 - val_loss: 0.7977 - val_acc: 0.7723\n",
      "Epoch 83/100\n",
      "60000/60000 [==============================] - 640s 11ms/sample - loss: 0.8351 - acc: 0.7597 - val_loss: 0.7919 - val_acc: 0.7742\n",
      "Epoch 84/100\n",
      "60000/60000 [==============================] - 23s 385us/sample - loss: 0.8292 - acc: 0.7606 - val_loss: 0.7861 - val_acc: 0.7771\n",
      "Epoch 85/100\n",
      "60000/60000 [==============================] - 19s 324us/sample - loss: 0.8234 - acc: 0.7627 - val_loss: 0.7806 - val_acc: 0.7778\n",
      "Epoch 86/100\n",
      "60000/60000 [==============================] - 225s 4ms/sample - loss: 0.8179 - acc: 0.7642 - val_loss: 0.7752 - val_acc: 0.7782\n",
      "Epoch 87/100\n",
      "60000/60000 [==============================] - 18s 298us/sample - loss: 0.8125 - acc: 0.7656 - val_loss: 0.7701 - val_acc: 0.7804\n",
      "Epoch 88/100\n",
      "60000/60000 [==============================] - 16s 274us/sample - loss: 0.8072 - acc: 0.7670 - val_loss: 0.7648 - val_acc: 0.7815\n",
      "Epoch 89/100\n",
      "60000/60000 [==============================] - 18s 303us/sample - loss: 0.8019 - acc: 0.7685 - val_loss: 0.7597 - val_acc: 0.7840\n",
      "Epoch 90/100\n",
      "60000/60000 [==============================] - 19s 321us/sample - loss: 0.7969 - acc: 0.7700 - val_loss: 0.7548 - val_acc: 0.7848\n",
      "Epoch 91/100\n",
      "60000/60000 [==============================] - 20s 328us/sample - loss: 0.7919 - acc: 0.7716 - val_loss: 0.7502 - val_acc: 0.7848\n",
      "Epoch 92/100\n",
      "60000/60000 [==============================] - 21s 352us/sample - loss: 0.7871 - acc: 0.7733 - val_loss: 0.7455 - val_acc: 0.7859\n",
      "Epoch 93/100\n",
      "60000/60000 [==============================] - 19s 314us/sample - loss: 0.7823 - acc: 0.7743 - val_loss: 0.7408 - val_acc: 0.7872\n",
      "Epoch 94/100\n",
      "60000/60000 [==============================] - 18s 305us/sample - loss: 0.7776 - acc: 0.7758 - val_loss: 0.7363 - val_acc: 0.7886\n",
      "Epoch 95/100\n",
      "60000/60000 [==============================] - 18s 302us/sample - loss: 0.7730 - acc: 0.7772 - val_loss: 0.7318 - val_acc: 0.7902\n",
      "Epoch 96/100\n",
      "60000/60000 [==============================] - 18s 305us/sample - loss: 0.7686 - acc: 0.7784 - val_loss: 0.7277 - val_acc: 0.7903\n",
      "Epoch 97/100\n",
      "60000/60000 [==============================] - 18s 304us/sample - loss: 0.7642 - acc: 0.7801 - val_loss: 0.7234 - val_acc: 0.7917\n",
      "Epoch 98/100\n",
      "60000/60000 [==============================] - 19s 311us/sample - loss: 0.7599 - acc: 0.7813 - val_loss: 0.7194 - val_acc: 0.7923\n",
      "Epoch 99/100\n",
      "60000/60000 [==============================] - 18s 307us/sample - loss: 0.7557 - acc: 0.7823 - val_loss: 0.7150 - val_acc: 0.7938\n",
      "Epoch 100/100\n",
      "60000/60000 [==============================] - 18s 306us/sample - loss: 0.7515 - acc: 0.7835 - val_loss: 0.7111 - val_acc: 0.7955\n",
      "Test loss: 0.711087887096405\n",
      "Test accuracy: 0.7955\n"
     ]
    }
   ],
   "source": [
    "from __future__ import print_function\n",
    "import tensorflow.keras as keras\n",
    "from tensorflow.keras.datasets import mnist\n",
    "from tensorflow.keras.models import Sequential\n",
    "from tensorflow.keras.layers import Dense, Dropout, Flatten\n",
    "from tensorflow.keras.layers import Conv2D, AveragePooling2D\n",
    "from tensorflow.keras.layers import Activation\n",
    "\n",
    "batch_size = 32\n",
    "num_classes = 10\n",
    "epochs = 100\n",
    "\n",
    "# input image dimensions\n",
    "img_rows, img_cols = 28, 28\n",
    "\n",
    "# the data, split between train and test sets\n",
    "(x_train, y_train), (x_test, y_test) = mnist.load_data()\n",
    "\n",
    "x_train = x_train.reshape(x_train.shape[0], img_rows, img_cols, 1)\n",
    "x_test = x_test.reshape(x_test.shape[0], img_rows, img_cols, 1)\n",
    "input_shape = (img_rows, img_cols, 1)\n",
    "\n",
    "x_train = x_train.astype('float32')\n",
    "x_test = x_test.astype('float32')\n",
    "x_train /= 255\n",
    "x_test /= 255\n",
    "print('x_train shape:', x_train.shape)\n",
    "print(x_train.shape[0], 'train samples')\n",
    "print(x_test.shape[0], 'test samples')\n",
    "\n",
    "# convert class vectors to binary class matrices\n",
    "y_train = keras.utils.to_categorical(y_train, num_classes)\n",
    "y_test = keras.utils.to_categorical(y_test, num_classes)\n",
    "\n",
    "model = Sequential()\n",
    "\n",
    "model.add(Conv2D(10, (3, 3), input_shape=input_shape))\n",
    "model.add(AveragePooling2D((2, 2)))\n",
    "model.add(Activation('relu'))\n",
    "model.add(Conv2D(32, (3, 3)))\n",
    "model.add(AveragePooling2D((2, 2)))\n",
    "model.add(Activation('relu'))\n",
    "model.add(Conv2D(64, (3, 3)))\n",
    "model.add(AveragePooling2D((2, 2)))\n",
    "model.add(Activation('relu'))\n",
    "model.add(Flatten())\n",
    "model.add(Dense(num_classes, activation='softmax'))\n",
    "\n",
    "model.compile(loss=keras.losses.categorical_crossentropy,\n",
    "              optimizer=keras.optimizers.Adadelta(),\n",
    "              metrics=['accuracy'])\n",
    "\n",
    "model.fit(x_train, y_train,\n",
    "          batch_size=batch_size,\n",
    "          epochs=epochs,\n",
    "          verbose=1,\n",
    "          validation_data=(x_test, y_test))\n",
    "score = model.evaluate(x_test, y_test, verbose=0)\n",
    "print('Test loss:', score[0])\n",
    "print('Test accuracy:', score[1])"
   ]
  },
  {
   "cell_type": "code",
   "execution_count": 61,
   "metadata": {},
   "outputs": [],
   "source": [
    "## Save your model's weights for future private prediction\n",
    "model.save('short-conv-mnist.h5')"
   ]
  },
  {
   "cell_type": "markdown",
   "metadata": {},
   "source": [
    "## Step 2: Load and Serve the Model"
   ]
  },
  {
   "cell_type": "markdown",
   "metadata": {},
   "source": [
    "Now that you have a trained model with normal Keras, you are ready to serve some private predictions. We can do that using Syft Keras.\n",
    "\n",
    "To secure and serve this model, we will need three TFEWorkers (servers). This is because TF Encrypted under the hood uses an encryption technique called [multi-party computation (MPC)](https://en.wikipedia.org/wiki/Secure_multi-party_computation). The idea is to split the model weights and input data into shares, then send a share of each value to the different servers. The key property is that if you look at the share on one server, it reveals nothing about the original value (input data or model weights).\n",
    "\n",
    "We'll define a Syft Keras model like we did in the previous notebook. However, there is a trick: before instantiating this model, we'll run `hook = sy.KerasHook(tf.keras)`. This will add three important new methods to the Keras Sequential class:\n",
    " - `share`: will secure your model via secret sharing; by default, it will use the SecureNN protocol from TF Encrypted to secret share your model between each of the three TFEWorkers. Most importantly, this will add the capability of providing predictions on encrypted data.\n",
    " - `serve`: this function will launch a serving queue, so that the TFEWorkers can accept prediction requests on the secured model from external clients.\n",
    " - `shutdown_workers`: once you are done providing private predictions, you can shut down your model by running this function. It will direct you to shutdown the server processes manually if you've opted to manually manage each worker.\n",
    "\n",
    "If you want learn more about MPC, you can read this excellent [blog](https://mortendahl.github.io/2017/04/17/private-deep-learning-with-mpc/)."
   ]
  },
  {
   "cell_type": "code",
   "execution_count": 62,
   "metadata": {},
   "outputs": [],
   "source": [
    "import numpy as np\n",
    "import tensorflow as tf\n",
    "from tensorflow.keras import Sequential\n",
    "from tensorflow.keras.layers import AveragePooling2D, Conv2D, Dense, Activation, Flatten, ReLU, Activation\n",
    "\n",
    "import syft as sy\n",
    "hook = sy.KerasHook(tf.keras)"
   ]
  },
  {
   "cell_type": "markdown",
   "metadata": {},
   "source": [
    "## Model\n",
    "\n",
    "As you can see, we define almost the exact same model as before, except we provide a `batch_input_shape`. This allows TF Encrypted to better optimize the secure computations via predefined tensor shapes. For this MNIST demo, we'll send input data with the shape of (1, 28, 28, 1). \n",
    "We also return the logit instead of softmax because this operation is complex to perform using MPC, and we don't need it to serve prediction requests."
   ]
  },
  {
   "cell_type": "code",
   "execution_count": 63,
   "metadata": {},
   "outputs": [],
   "source": [
    "num_classes = 10\n",
    "input_shape = (1, 28, 28, 1)\n",
    "\n",
    "model = Sequential()\n",
    "\n",
    "model.add(Conv2D(10, (3, 3), batch_input_shape=input_shape))\n",
    "model.add(AveragePooling2D((2, 2)))\n",
    "model.add(Activation('relu'))\n",
    "model.add(Conv2D(32, (3, 3)))\n",
    "model.add(AveragePooling2D((2, 2)))\n",
    "model.add(Activation('relu'))\n",
    "model.add(Conv2D(64, (3, 3)))\n",
    "model.add(AveragePooling2D((2, 2)))\n",
    "model.add(Activation('relu'))\n",
    "model.add(Flatten())\n",
    "model.add(Dense(num_classes, name=\"logit\"))"
   ]
  },
  {
   "cell_type": "markdown",
   "metadata": {},
   "source": [
    "### Load Pre-trained Weights\n",
    "\n",
    "With `load_weights` you can easily load the weights you have saved previously after training your model."
   ]
  },
  {
   "cell_type": "code",
   "execution_count": 67,
   "metadata": {},
   "outputs": [],
   "source": [
    "pre_trained_weights = 'short-conv-mnist.h5'\n",
    "model.load_weights(pre_trained_weights)"
   ]
  },
  {
   "cell_type": "markdown",
   "metadata": {},
   "source": [
    "## Step 3: Setup Your Worker Connectors\n",
    "\n",
    "Let's now connect to the TFEWorkers (`alice`, `bob`, and `carol`) required by TF Encrypted to perform private predictions. For each TFEWorker, you just have to specify a host.\n",
    "\n",
    "These workers run a [TensorFlow server](https://www.tensorflow.org/api_docs/python/tf/distribute/Server), which you can either manage manually (`AUTO = False`) or ask the workers to manage for you (`AUTO = True`). If choosing to manually manage them, you will be instructed to execute a terminal command on each worker's host device after calling `model.share()` below.  If all workers are hosted on a single device (e.g. `localhost`), you can choose to have Syft automatically manage the worker's TensorFlow server."
   ]
  },
  {
   "cell_type": "code",
   "execution_count": 64,
   "metadata": {},
   "outputs": [],
   "source": [
    "AUTO = True\n",
    "\n",
    "alice = sy.TFEWorker(host='localhost:4000', auto_managed=AUTO)\n",
    "bob = sy.TFEWorker(host='localhost:4001', auto_managed=AUTO)\n",
    "carol = sy.TFEWorker(host='localhost:4002', auto_managed=AUTO)"
   ]
  },
  {
   "cell_type": "markdown",
   "metadata": {},
   "source": [
    "## Step 4: Split the Model Into Shares\n",
    "\n",
    "Thanks to `sy.KerasHook(tf.keras)` you can call the `share` method to transform your model into a TF Encrypted Keras model.\n",
    "\n",
    "If you have asked to manually manage servers above then this step will not complete until they have all been launched. Note that your firewall may ask for Python to accept incoming connection."
   ]
  },
  {
   "cell_type": "code",
   "execution_count": 65,
   "metadata": {},
   "outputs": [
    {
     "name": "stderr",
     "output_type": "stream",
     "text": [
      "W0712 16:03:56.540009 4650186176 deprecation_wrapper.py:119] From /anaconda3/envs/pysyft/lib/python3.6/site-packages/tf_encrypted/keras/engine/base_layer_utils.py:29: The name tf.get_default_graph is deprecated. Please use tf.compat.v1.get_default_graph instead.\n",
      "\n",
      "W0712 16:03:56.543751 4650186176 deprecation_wrapper.py:119] From /anaconda3/envs/pysyft/lib/python3.6/site-packages/tf_encrypted/tensor/native.py:403: The name tf.placeholder is deprecated. Please use tf.compat.v1.placeholder instead.\n",
      "\n",
      "W0712 16:03:56.550557 4650186176 deprecation_wrapper.py:119] From /anaconda3/envs/pysyft/lib/python3.6/site-packages/tf_encrypted/tensor/native.py:101: The name tf.random_uniform is deprecated. Please use tf.random.uniform instead.\n",
      "\n",
      "W0712 16:03:56.651449 4650186176 deprecation.py:506] From /anaconda3/envs/pysyft/lib/python3.6/site-packages/tf_encrypted/tensor/shared.py:62: calling extract_image_patches (from tensorflow.python.ops.array_ops) with ksizes is deprecated and will be removed in a future version.\n",
      "Instructions for updating:\n",
      "ksizes is deprecated, use sizes instead\n",
      "W0712 16:03:56.787228 4650186176 deprecation_wrapper.py:119] From /anaconda3/envs/pysyft/lib/python3.6/site-packages/tf_encrypted/protocol/pond/pond.py:3131: The name tf.Dimension is deprecated. Please use tf.compat.v1.Dimension instead.\n",
      "\n",
      "W0712 16:03:56.834995 4650186176 deprecation.py:323] From /anaconda3/envs/pysyft/lib/python3.6/site-packages/tf_encrypted/protocol/securenn/odd_tensor.py:306: add_dispatch_support.<locals>.wrapper (from tensorflow.python.ops.array_ops) is deprecated and will be removed in a future version.\n",
      "Instructions for updating:\n",
      "Use tf.where in 2.0, which has the same broadcast rule as np.where\n",
      "I0712 16:04:00.448258 4650186176 session.py:55] Starting session on target 'grpc://localhost:4000' using config graph_options {\n",
      "}\n",
      "\n"
     ]
    }
   ],
   "source": [
    "model.share(alice, bob, carol)"
   ]
  },
  {
   "cell_type": "markdown",
   "metadata": {},
   "source": [
    "## Step 5: Launch 3 Servers\n",
    "\n",
    "```\n",
    "python -m tf_encrypted.player --config /tmp/tfe.config server0\n",
    "python -m tf_encrypted.player --config /tmp/tfe.config server1\n",
    "python -m tf_encrypted.player --config /tmp/tfe.config server2```"
   ]
  },
  {
   "cell_type": "markdown",
   "metadata": {},
   "source": [
    "## Step 6: Serve the Model\n",
    "\n",
    "Perfect! Now by calling `model.serve`, your model is ready to provide some private predictions. You can set `num_requests` to set a limit on the number of predictions requests served by the model; if not specified then the model will be served until interrupted."
   ]
  },
  {
   "cell_type": "code",
   "execution_count": 66,
   "metadata": {},
   "outputs": [
    {
     "name": "stdout",
     "output_type": "stream",
     "text": [
      "Served encrypted prediction 1 to client.\n",
      "Served encrypted prediction 2 to client.\n",
      "Served encrypted prediction 3 to client.\n"
     ]
    }
   ],
   "source": [
    "model.serve(num_requests=3)"
   ]
  },
  {
   "cell_type": "markdown",
   "metadata": {},
   "source": [
    "## Step 7: Run the Client\n",
    "\n",
    "At this point open up and run the companion notebook: Section 4b - Encrytped Keras Client"
   ]
  },
  {
   "cell_type": "markdown",
   "metadata": {},
   "source": [
    "## Step 8: Shutdown the Servers\n",
    "\n",
    "Once your request limit above, the model will no longer be available for serving requests, but it's still secret shared between the three workers above. You can kill the workers by executing the cell below.\n",
    "\n",
    "**Congratulations** on finishing Part 12: Secure Classification with Syft Keras and TFE!"
   ]
  },
  {
   "cell_type": "code",
   "execution_count": 67,
   "metadata": {},
   "outputs": [],
   "source": [
    "model.shutdown_workers()\n",
    "\n",
    "if not AUTO:\n",
    "    process_ids = !ps aux | grep '[p]ython -m tf_encrypted.player --config /tmp/tfe.config' | awk '{print $2}'\n",
    "    for process_id in process_ids:\n",
    "        !kill {process_id}\n",
    "        print(\"Process ID {id} has been killed.\".format(id=process_id))"
   ]
  },
  {
   "cell_type": "code",
   "execution_count": null,
   "metadata": {},
   "outputs": [],
   "source": []
  },
  {
   "cell_type": "markdown",
   "metadata": {},
   "source": [
    "# Keystone Project - Mix and Match What You've Learned\n",
    "\n",
    "Description: Take two of the concepts you've learned about in this course (Encrypted Computation, Federated Learning, Differential Privacy) and combine them for a use case of your own design. Extra credit if you can get your demo working with [WebSocketWorkers](https://github.com/OpenMined/PySyft/tree/dev/examples/tutorials/advanced/websockets-example-MNIST) instead of VirtualWorkers! Then take your demo or example application, write a blogpost, and share that blogpost in #general-discussion on OpenMined's slack!!!\n",
    "\n",
    "Inspiration:\n",
    "- This Course's Code: https://github.com/Udacity/private-ai\n",
    "- OpenMined's Tutorials: https://github.com/OpenMined/PySyft/tree/dev/examples/tutorials\n",
    "- OpenMined's Blog: https://blog.openmined.org"
   ]
  },
  {
   "cell_type": "code",
   "execution_count": null,
   "metadata": {},
   "outputs": [],
   "source": []
  },
  {
   "cell_type": "code",
   "execution_count": null,
   "metadata": {},
   "outputs": [],
   "source": []
  },
  {
   "cell_type": "code",
   "execution_count": null,
   "metadata": {},
   "outputs": [],
   "source": []
  },
  {
   "cell_type": "code",
   "execution_count": null,
   "metadata": {},
   "outputs": [],
   "source": []
  },
  {
   "cell_type": "code",
   "execution_count": null,
   "metadata": {},
   "outputs": [],
   "source": []
  },
  {
   "cell_type": "code",
   "execution_count": null,
   "metadata": {},
   "outputs": [],
   "source": []
  },
  {
   "cell_type": "code",
   "execution_count": null,
   "metadata": {},
   "outputs": [],
   "source": []
  },
  {
   "cell_type": "code",
   "execution_count": null,
   "metadata": {},
   "outputs": [],
   "source": []
  },
  {
   "cell_type": "code",
   "execution_count": null,
   "metadata": {},
   "outputs": [],
   "source": []
  },
  {
   "cell_type": "code",
   "execution_count": null,
   "metadata": {},
   "outputs": [],
   "source": []
  },
  {
   "cell_type": "code",
   "execution_count": null,
   "metadata": {},
   "outputs": [],
   "source": []
  },
  {
   "cell_type": "code",
   "execution_count": null,
   "metadata": {},
   "outputs": [],
   "source": []
  },
  {
   "cell_type": "code",
   "execution_count": null,
   "metadata": {},
   "outputs": [],
   "source": []
  },
  {
   "cell_type": "code",
   "execution_count": null,
   "metadata": {},
   "outputs": [],
   "source": []
  },
  {
   "cell_type": "code",
   "execution_count": null,
   "metadata": {},
   "outputs": [],
   "source": []
  },
  {
   "cell_type": "code",
   "execution_count": null,
   "metadata": {},
   "outputs": [],
   "source": []
  },
  {
   "cell_type": "code",
   "execution_count": null,
   "metadata": {},
   "outputs": [],
   "source": []
  },
  {
   "cell_type": "code",
   "execution_count": null,
   "metadata": {},
   "outputs": [],
   "source": []
  },
  {
   "cell_type": "code",
   "execution_count": null,
   "metadata": {},
   "outputs": [],
   "source": []
  }
 ],
 "metadata": {
  "kernelspec": {
   "display_name": "Python 3",
   "language": "python",
   "name": "python3"
  },
  "language_info": {
   "codemirror_mode": {
    "name": "ipython",
    "version": 3
   },
   "file_extension": ".py",
   "mimetype": "text/x-python",
   "name": "python",
   "nbconvert_exporter": "python",
   "pygments_lexer": "ipython3",
   "version": "3.6.8"
  },
  "toc": {
   "base_numbering": 1,
   "nav_menu": {},
   "number_sections": true,
   "sideBar": true,
   "skip_h1_title": false,
   "title_cell": "Table of Contents",
   "title_sidebar": "Contents",
   "toc_cell": false,
   "toc_position": {},
   "toc_section_display": true,
   "toc_window_display": false
  }
 },
 "nbformat": 4,
 "nbformat_minor": 2
}
